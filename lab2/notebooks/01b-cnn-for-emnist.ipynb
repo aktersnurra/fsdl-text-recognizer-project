{
 "cells": [
  {
   "cell_type": "code",
   "execution_count": 1,
   "metadata": {},
   "outputs": [],
   "source": [
    "%load_ext autoreload\n",
    "%autoreload 2\n",
    "\n",
    "%matplotlib inline\n",
    "import matplotlib.pyplot as plt\n",
    "import numpy as np\n",
    "import tensorflow as tf\n",
    "\n",
    "from importlib.util import find_spec\n",
    "if find_spec(\"text_recognizer\") is None:\n",
    "    import sys\n",
    "    sys.path.append('..')\n",
    "\n",
    "from text_recognizer.datasets.emnist_dataset import EmnistDataset"
   ]
  },
  {
   "cell_type": "code",
   "execution_count": 2,
   "metadata": {},
   "outputs": [],
   "source": [
    "import tensorflow as tf\n",
    "tf.config.experimental.set_memory_growth(tf.config.list_physical_devices('GPU')[0], True)\n",
    "gpus = tf.config.experimental.list_physical_devices('GPU')\n",
    "if gpus:\n",
    "    try:\n",
    "        # Currently, memory growth needs to be the same across GPUs\n",
    "        for gpu in gpus:\n",
    "            tf.config.experimental.set_memory_growth(gpu, True)\n",
    "        logical_gpus = tf.config.experimental.list_logical_devices('GPU')\n",
    "        print(len(gpus), \"Physical GPUs,\", len(logical_gpus), \"Logical GPUs\")\n",
    "    except RuntimeError as e:\n",
    "        # Memory growth must be set before GPUs have been initialized\n",
    "        print(e)"
   ]
  },
  {
   "cell_type": "code",
   "execution_count": 4,
   "metadata": {},
   "outputs": [
    {
     "name": "stdout",
     "output_type": "stream",
     "text": [
      "EMNIST Dataset\n",
      "Num classes: 62\n",
      "Mapping: {0: '0', 1: '1', 2: '2', 3: '3', 4: '4', 5: '5', 6: '6', 7: '7', 8: '8', 9: '9', 10: 'A', 11: 'B', 12: 'C', 13: 'D', 14: 'E', 15: 'F', 16: 'G', 17: 'H', 18: 'I', 19: 'J', 20: 'K', 21: 'L', 22: 'M', 23: 'N', 24: 'O', 25: 'P', 26: 'Q', 27: 'R', 28: 'S', 29: 'T', 30: 'U', 31: 'V', 32: 'W', 33: 'X', 34: 'Y', 35: 'Z', 36: 'a', 37: 'b', 38: 'c', 39: 'd', 40: 'e', 41: 'f', 42: 'g', 43: 'h', 44: 'i', 45: 'j', 46: 'k', 47: 'l', 48: 'm', 49: 'n', 50: 'o', 51: 'p', 52: 'q', 53: 'r', 54: 's', 55: 't', 56: 'u', 57: 'v', 58: 'w', 59: 'x', 60: 'y', 61: 'z'}\n",
      "Input shape: [28, 28]\n",
      "\n",
      "(84074, 28, 28) (84074, 62)\n",
      "(13947, 28, 28) (13947, 62)\n"
     ]
    }
   ],
   "source": [
    "dataset = EmnistDataset(subsample_fraction=0.25)\n",
    "dataset.load_or_generate_data()\n",
    "print(dataset)\n",
    "print(dataset.x_train.shape, dataset.y_train.shape)\n",
    "print(dataset.x_test.shape, dataset.y_test.shape)"
   ]
  },
  {
   "cell_type": "code",
   "execution_count": 5,
   "metadata": {},
   "outputs": [
    {
     "name": "stdout",
     "output_type": "stream",
     "text": [
      "Model: \"sequential\"\n",
      "_________________________________________________________________\n",
      "Layer (type)                 Output Shape              Param #   \n",
      "=================================================================\n",
      "expand_dims (Lambda)         (None, 28, 28, 1)         0         \n",
      "_________________________________________________________________\n",
      "conv2d (Conv2D)              (None, 26, 26, 32)        320       \n",
      "_________________________________________________________________\n",
      "conv2d_1 (Conv2D)            (None, 24, 24, 64)        18496     \n",
      "_________________________________________________________________\n",
      "max_pooling2d (MaxPooling2D) (None, 12, 12, 64)        0         \n",
      "_________________________________________________________________\n",
      "dropout (Dropout)            (None, 12, 12, 64)        0         \n",
      "_________________________________________________________________\n",
      "flatten (Flatten)            (None, 9216)              0         \n",
      "_________________________________________________________________\n",
      "dense (Dense)                (None, 128)               1179776   \n",
      "_________________________________________________________________\n",
      "dropout_1 (Dropout)          (None, 128)               0         \n",
      "_________________________________________________________________\n",
      "dense_1 (Dense)              (None, 62)                7998      \n",
      "=================================================================\n",
      "Total params: 1,206,590\n",
      "Trainable params: 1,206,590\n",
      "Non-trainable params: 0\n",
      "_________________________________________________________________\n"
     ]
    }
   ],
   "source": [
    "from text_recognizer.networks.lenet import lenet\n",
    "\n",
    "network = lenet(dataset.input_shape, output_shape=(dataset.num_classes, 1))\n",
    "network.summary()"
   ]
  },
  {
   "cell_type": "code",
   "execution_count": 6,
   "metadata": {},
   "outputs": [
    {
     "name": "stdout",
     "output_type": "stream",
     "text": [
      "Epoch 1/5\n",
      "1314/1314 [==============================] - 5s 4ms/step - loss: 0.3654 - accuracy: 0.9167 - val_loss: 0.0732 - val_accuracy: 0.9788\n",
      "Epoch 2/5\n",
      "1314/1314 [==============================] - 5s 3ms/step - loss: 0.0830 - accuracy: 0.9762 - val_loss: 0.0591 - val_accuracy: 0.9822\n",
      "Epoch 3/5\n",
      "1314/1314 [==============================] - 5s 3ms/step - loss: 0.0590 - accuracy: 0.9824 - val_loss: 0.0455 - val_accuracy: 0.9865\n",
      "Epoch 4/5\n",
      "1314/1314 [==============================] - 5s 4ms/step - loss: 0.0482 - accuracy: 0.9854 - val_loss: 0.0327 - val_accuracy: 0.9900\n",
      "Epoch 5/5\n",
      "1314/1314 [==============================] - 5s 3ms/step - loss: 0.0406 - accuracy: 0.9873 - val_loss: 0.0327 - val_accuracy: 0.9900\n"
     ]
    },
    {
     "data": {
      "text/plain": [
       "<tensorflow.python.keras.callbacks.History at 0x7f09dc0c5c50>"
      ]
     },
     "execution_count": 6,
     "metadata": {},
     "output_type": "execute_result"
    }
   ],
   "source": [
    "network.compile(optimizer='sgd', loss='categorical_crossentropy', metrics='accuracy')\n",
    "network.fit(\n",
    "    x=dataset.x_train,\n",
    "    y=dataset.y_train,\n",
    "    batch_size=64,\n",
    "    epochs=5,\n",
    "    validation_data=(dataset.x_test, dataset.y_test)\n",
    ")"
   ]
  },
  {
   "cell_type": "code",
   "execution_count": 7,
   "metadata": {},
   "outputs": [
    {
     "name": "stdout",
     "output_type": "stream",
     "text": [
      "(1, 28, 28, 1)\n",
      "[[9.99999523e-01 5.00053732e-09 5.34690173e-07 4.33240915e-10\n",
      "  5.36466072e-09 8.73429662e-10 4.37479564e-08 1.23378130e-09\n",
      "  1.10728049e-08 1.77422692e-13 1.73106366e-15 8.80899357e-15\n",
      "  5.05052684e-12 1.29500242e-14 2.76758027e-13 2.74695834e-14\n",
      "  5.34096638e-12 6.90764051e-15 1.55612294e-11 1.65399760e-17\n",
      "  3.71540441e-16 5.13859585e-14 1.06197577e-14 2.66463284e-14\n",
      "  6.26649137e-14 1.23309430e-13 8.11075653e-14 1.42759797e-14\n",
      "  2.74568562e-10 1.85377172e-13 3.64802225e-15 9.96187707e-17\n",
      "  1.38986606e-16 8.89908239e-20 2.36341335e-15 1.02858604e-10\n",
      "  6.93700460e-15 1.68719119e-11 7.71908470e-17 2.75828180e-11\n",
      "  7.63461085e-14 1.65765825e-13 5.41621801e-14 4.84974994e-12\n",
      "  2.44462055e-11 1.98915182e-17 1.26791210e-14 8.94500606e-14\n",
      "  3.69860705e-11 9.72429399e-15 1.96485470e-15 8.70255951e-12\n",
      "  4.73197106e-11 4.89993289e-11 2.13393114e-20 2.93501522e-16\n",
      "  1.69292835e-12 9.59823401e-11 1.40715699e-15 2.92891427e-12\n",
      "  1.44630893e-14 2.16170520e-13]]\n",
      "0\n",
      "0\n"
     ]
    },
    {
     "data": {
      "image/png": "[encoded data removed]",
      "text/plain": [
       "<Figure size 288x288 with 1 Axes>"
      ]
     },
     "metadata": {
      "needs_background": "light"
     },
     "output_type": "display_data"
    }
   ],
   "source": [
    "x_example = dataset.x_test[0:1]\n",
    "plt.matshow(x_example[0])\n",
    "\n",
    "x_example = np.expand_dims(x_example, -1)\n",
    "print(x_example.shape)\n",
    "preds = network.predict(x_example)\n",
    "print(preds)\n",
    "\n",
    "ind = np.argmax(preds)\n",
    "print(ind)\n",
    "\n",
    "print(dataset.mapping[ind])"
   ]
  },
  {
   "cell_type": "code",
   "execution_count": null,
   "metadata": {},
   "outputs": [],
   "source": []
  }
 ],
 "metadata": {
  "kernelspec": {
   "display_name": "Python 3",
   "language": "python",
   "name": "python3"
  },
  "language_info": {
   "codemirror_mode": {
    "name": "ipython",
    "version": 3
   },
   "file_extension": ".py",
   "mimetype": "text/x-python",
   "name": "python",
   "nbconvert_exporter": "python",
   "pygments_lexer": "ipython3",
   "version": "3.7.4"
  }
 },
 "nbformat": 4,
 "nbformat_minor": 4
}
